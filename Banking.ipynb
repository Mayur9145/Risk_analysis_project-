{
  "nbformat": 4,
  "nbformat_minor": 0,
  "metadata": {
    "colab": {
      "provenance": [],
      "authorship_tag": "ABX9TyPrP3xMlpp2JiacEGl0+IEz",
      "include_colab_link": true
    },
    "kernelspec": {
      "name": "python3",
      "display_name": "Python 3"
    },
    "language_info": {
      "name": "python"
    }
  },
  "cells": [
    {
      "cell_type": "markdown",
      "metadata": {
        "id": "view-in-github",
        "colab_type": "text"
      },
      "source": [
        "<a href=\"https://colab.research.google.com/github/Mayur9145/Risk_analysis_project-/blob/main/Banking.ipynb\" target=\"_parent\"><img src=\"https://colab.research.google.com/assets/colab-badge.svg\" alt=\"Open In Colab\"/></a>"
      ]
    },
    {
      "cell_type": "code",
      "execution_count": null,
      "metadata": {
        "id": "YMHwBSymHgAX"
      },
      "outputs": [],
      "source": [
        "import numpy as np\n",
        "import pandas as pd\n",
        "import seaborn as sns\n",
        "import matplotlib.pyplot as plt"
      ]
    },
    {
      "cell_type": "code",
      "source": [
        " df=pd.read_csv('/content/Banking (1).csv')\n",
        " df.head(5)"
      ],
      "metadata": {
        "id": "bF9ffIccL7a3"
      },
      "execution_count": null,
      "outputs": []
    },
    {
      "cell_type": "code",
      "source": [
        "df.shape\n"
      ],
      "metadata": {
        "id": "2emrPzNlNeOn"
      },
      "execution_count": null,
      "outputs": []
    },
    {
      "cell_type": "code",
      "source": [
        "df.info()"
      ],
      "metadata": {
        "id": "PX-B52ZrNfhW"
      },
      "execution_count": null,
      "outputs": []
    },
    {
      "cell_type": "code",
      "source": [
        "df"
      ],
      "metadata": {
        "id": "Hlo73XdhNjW2"
      },
      "execution_count": null,
      "outputs": []
    },
    {
      "cell_type": "code",
      "source": [
        "df.describe()"
      ],
      "metadata": {
        "id": "SQIa0KHUcdiz"
      },
      "execution_count": null,
      "outputs": []
    },
    {
      "cell_type": "code",
      "source": [
        "bins=[0,100000,300000,float('inf')]\n",
        "labels=['Low','Med','High']\n",
        "df['Income Band']=pd.cut(df['Estimated Income'],bins=bins,labels=labels,right=False)\n"
      ],
      "metadata": {
        "id": "b-pSvtAtcioS"
      },
      "execution_count": null,
      "outputs": []
    },
    {
      "cell_type": "markdown",
      "source": [],
      "metadata": {
        "id": "9Vpq3Lqdg10x"
      }
    },
    {
      "cell_type": "markdown",
      "source": [
        "plotting\n",
        "\n",
        "---\n",
        "\n"
      ],
      "metadata": {
        "id": "33UwEb5wg2U5"
      }
    },
    {
      "cell_type": "code",
      "source": [
        "df['Income Band'].min()"
      ],
      "metadata": {
        "id": "SLPp2zbEdg6q"
      },
      "execution_count": null,
      "outputs": []
    },
    {
      "cell_type": "code",
      "source": [],
      "metadata": {
        "id": "ybDLZU40g57h"
      },
      "execution_count": null,
      "outputs": []
    }
  ]
}